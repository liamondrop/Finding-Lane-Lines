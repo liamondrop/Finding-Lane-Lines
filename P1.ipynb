{
 "cells": [
  {
   "cell_type": "markdown",
   "metadata": {},
   "source": [
    "# Self-Driving Car Engineer Nanodegree\n",
    "\n",
    "\n",
    "## Project: **Finding Lane Lines on the Road** \n",
    "***\n",
    "In this project, you will use the tools you learned about in the lesson to identify lane lines on the road.  You can develop your pipeline on a series of individual images, and later apply the result to a video stream (really just a series of images). Check out the video clip \"raw-lines-example.mp4\" (also contained in this repository) to see what the output should look like after using the helper functions below. \n",
    "\n",
    "Once you have a result that looks roughly like \"raw-lines-example.mp4\", you'll need to get creative and try to average and/or extrapolate the line segments you've detected to map out the full extent of the lane lines.  You can see an example of the result you're going for in the video \"P1_example.mp4\".  Ultimately, you would like to draw just one line for the left side of the lane, and one for the right.\n",
    "\n",
    "In addition to implementing code, there is a brief writeup to complete. The writeup should be completed in a separate file, which can be either a markdown file or a pdf document. There is a [write up template](https://github.com/udacity/CarND-LaneLines-P1/blob/master/writeup_template.md) that can be used to guide the writing process. Completing both the code in the Ipython notebook and the writeup template will cover all of the [rubric points](https://review.udacity.com/#!/rubrics/322/view) for this project.\n",
    "\n",
    "---\n",
    "Let's have a look at our first image called 'test_images/solidWhiteRight.jpg'.  Run the 2 cells below (hit Shift-Enter or the \"play\" button above) to display the image.\n",
    "\n",
    "**Note: If, at any point, you encounter frozen display windows or other confounding issues, you can always start again with a clean slate by going to the \"Kernel\" menu above and selecting \"Restart & Clear Output\".**\n",
    "\n",
    "---"
   ]
  },
  {
   "cell_type": "markdown",
   "metadata": {},
   "source": [
    "**The tools you have are color selection, region of interest selection, grayscaling, Gaussian smoothing, Canny Edge Detection and Hough Tranform line detection.  You  are also free to explore and try other techniques that were not presented in the lesson.  Your goal is piece together a pipeline to detect the line segments in the image, then average/extrapolate them and draw them onto the image for display (as below).  Once you have a working pipeline, try it out on the video stream below.**\n",
    "\n",
    "---\n",
    "\n",
    "<figure>\n",
    " <img src=\"line-segments-example.jpg\" width=\"380\" alt=\"Combined Image\" />\n",
    " <figcaption>\n",
    " <p></p> \n",
    " <p style=\"text-align: center;\"> Your output should look something like this (above) after detecting line segments using the helper functions below </p> \n",
    " </figcaption>\n",
    "</figure>\n",
    " <p></p> \n",
    "<figure>\n",
    " <img src=\"laneLines_thirdPass.jpg\" width=\"380\" alt=\"Combined Image\" />\n",
    " <figcaption>\n",
    " <p></p> \n",
    " <p style=\"text-align: center;\"> Your goal is to connect/average/extrapolate line segments to get output like this</p> \n",
    " </figcaption>\n",
    "</figure>"
   ]
  },
  {
   "cell_type": "markdown",
   "metadata": {},
   "source": [
    "**Run the cell below to import some packages.  If you get an `import error` for a package you've already installed, try changing your kernel (select the Kernel menu above --> Change Kernel).  Still have problems?  Try relaunching Jupyter Notebook from the terminal prompt.  Also, see [this forum post](https://carnd-forums.udacity.com/cq/viewquestion.action?spaceKey=CAR&id=29496372&questionTitle=finding-lanes---import-cv2-fails-even-though-python-in-the-terminal-window-has-no-problem-with-import-cv2) for more troubleshooting tips.**  "
   ]
  },
  {
   "cell_type": "markdown",
   "metadata": {},
   "source": [
    "## Import Packages"
   ]
  },
  {
   "cell_type": "code",
   "execution_count": null,
   "metadata": {
    "collapsed": false
   },
   "outputs": [],
   "source": [
    "#importing some useful packages\n",
    "import matplotlib.pyplot as plt\n",
    "import matplotlib.image as mpimg\n",
    "import numpy as np\n",
    "import cv2\n",
    "%matplotlib inline"
   ]
  },
  {
   "cell_type": "markdown",
   "metadata": {},
   "source": [
    "## Read in an Image"
   ]
  },
  {
   "cell_type": "code",
   "execution_count": null,
   "metadata": {
    "collapsed": false
   },
   "outputs": [],
   "source": [
    "#reading in an image\n",
    "image = mpimg.imread('test_images/solidWhiteRight.jpg')\n",
    "\n",
    "#printing out some stats and plotting\n",
    "print('This image is:', type(image), 'with dimesions:', image.shape)\n",
    "plt.imshow(image)  # if you wanted to show a single color channel image called 'gray', for example, call as plt.imshow(gray, cmap='gray')"
   ]
  },
  {
   "cell_type": "markdown",
   "metadata": {},
   "source": [
    "## Ideas for Lane Detection Pipeline"
   ]
  },
  {
   "cell_type": "markdown",
   "metadata": {},
   "source": [
    "**Some OpenCV functions (beyond those introduced in the lesson) that might be useful for this project are:**\n",
    "\n",
    "`cv2.inRange()` for color selection  \n",
    "`cv2.fillPoly()` for regions selection  \n",
    "`cv2.line()` to draw lines on an image given endpoints  \n",
    "`cv2.addWeighted()` to coadd / overlay two images\n",
    "`cv2.cvtColor()` to grayscale or change color\n",
    "`cv2.imwrite()` to output images to file  \n",
    "`cv2.bitwise_and()` to apply a mask to an image\n",
    "\n",
    "**Check out the OpenCV documentation to learn about these and discover even more awesome functionality!**"
   ]
  },
  {
   "cell_type": "markdown",
   "metadata": {},
   "source": [
    "## Helper Functions"
   ]
  },
  {
   "cell_type": "markdown",
   "metadata": {},
   "source": [
    "Below are some helper functions to help get you started. They should look familiar from the lesson!"
   ]
  },
  {
   "cell_type": "code",
   "execution_count": null,
   "metadata": {
    "collapsed": false
   },
   "outputs": [],
   "source": [
    "class LaneDetection:\n",
    "    def __init__(self,\n",
    "                 buffer_size=10,\n",
    "                 kernel_size=3,\n",
    "                 canny_lo_thresh=20,\n",
    "                 canny_hi_thresh=60,\n",
    "                 hough_rho=2,\n",
    "                 hough_theta=(np.pi/180),\n",
    "                 hough_thresh=50,\n",
    "                 hough_min_line_len=15,\n",
    "                 hough_max_line_gap=10,\n",
    "                 min_line_slope=0.5,\n",
    "                 max_line_slope=0.9,\n",
    "                 line_color=[255, 0, 0]):\n",
    "        self.buffer_size = buffer_size\n",
    "        self.kernel_size = kernel_size\n",
    "        self.canny_lo_thresh = canny_lo_thresh\n",
    "        self.canny_hi_thresh = canny_hi_thresh\n",
    "        self.hough_rho = hough_rho\n",
    "        self.hough_theta = hough_theta\n",
    "        self.hough_thresh = hough_thresh\n",
    "        self.hough_min_line_len = hough_min_line_len\n",
    "        self.hough_max_line_gap = hough_max_line_gap\n",
    "        self.min_line_slope = min_line_slope\n",
    "        self.max_line_slope = max_line_slope\n",
    "        self.line_color = line_color\n",
    "        self.left_buffer = []\n",
    "        self.right_buffer = []\n",
    "\n",
    "    def filter_colors_hsv(self, img):\n",
    "        \"\"\"\n",
    "        Convert image to HSV color space and suppress any colors\n",
    "        outside of the defined color ranges\n",
    "        \"\"\"\n",
    "        img = cv2.cvtColor(img, cv2.COLOR_RGB2HSV)\n",
    "        yellow_dark = np.array([15, 127, 127], dtype=np.uint8)\n",
    "        yellow_light = np.array([25, 255, 255], dtype=np.uint8)\n",
    "        yellow_range = cv2.inRange(img, yellow_dark, yellow_light)\n",
    "\n",
    "        white_dark = np.array([0, 0, 200], dtype=np.uint8)\n",
    "        white_light = np.array([255, 30, 255], dtype=np.uint8)\n",
    "        white_range = cv2.inRange(img, white_dark, white_light)\n",
    "\n",
    "        return cv2.bitwise_and(img, img, mask=(yellow_range | white_range))\n",
    "\n",
    "    def get_masked_image(self, img):\n",
    "        \"\"\"\n",
    "        Only keeps the region of the image defined by the polygon\n",
    "        formed from `vertices`. The rest of the image is set to black.\n",
    "        \"\"\"\n",
    "        rows, cols = img.shape[:2]\n",
    "        top = int(rows/2 + 50)\n",
    "        vertices = np.array([[(      30, rows),\n",
    "                              (     450,  top),\n",
    "                              (cols-450,  top),\n",
    "                              ( cols-30, rows)]], dtype=int)\n",
    "        mask = np.zeros_like(img)\n",
    "        cv2.fillPoly(mask, vertices, 255)\n",
    "        return img & mask\n",
    "\n",
    "    def add_line_to_buffer(self, line, buffer):\n",
    "        \"\"\"\n",
    "        Push the current line onto this buffer and drop the oldest line\n",
    "        if there are more lines than the specified buffer size\n",
    "        \"\"\"\n",
    "        buffer.append(line)\n",
    "        return buffer[-self.buffer_size:]\n",
    "\n",
    "    def get_line_segment(self, x1, x2, line):\n",
    "        \"\"\"\n",
    "        Use the slope and y-intercept values of the line to derive\n",
    "        the y1,y2 values for the inputs x1,x2\n",
    "        \"\"\"\n",
    "        fx = np.poly1d(line)\n",
    "        y1 = int(fx(x1))\n",
    "        y2 = int(fx(x2))\n",
    "        return ((x1,y1), (x2,y2))\n",
    "    \n",
    "    def get_line_intersection(self, left_line, right_line):\n",
    "        \"\"\"\n",
    "        find the intersection of 2 lines\n",
    "        \"\"\"\n",
    "        left_slope, left_intercept = left_line\n",
    "        right_slope, right_intercept = right_line\n",
    "        \n",
    "        # put the coordinates into homogeneous form\n",
    "        a = [[left_slope, -1],\n",
    "             [right_slope, -1]]\n",
    "        b = [-left_intercept, -right_intercept]\n",
    "        x, y = np.linalg.solve(a, b)\n",
    "        return int(x)\n",
    "    \n",
    "    def partition_line_segments(self, line_segments, mid_x):\n",
    "        \"\"\"\n",
    "        Separates line segments by their position in the image to determine which is the\n",
    "        left line vs. the right line. Filter out line segments with slopes outside a\n",
    "        given minimum / maxiumum\n",
    "        \"\"\"\n",
    "        left_points = {'X': [], 'Y': [],}\n",
    "        right_points = {'X': [], 'Y': [],}\n",
    "        for segment in line_segments:\n",
    "            x1, y1, x2, y2 = segment[0]\n",
    "            dY = y2 - y1\n",
    "            dX = x2 - x1\n",
    "            if dX != 0: # don't divide by zero\n",
    "                slope = float(dY) / float(dX)\n",
    "                if x1 < mid_x and x2 < mid_x: # left lines\n",
    "                    if -self.max_line_slope < slope < -self.min_line_slope:\n",
    "                        left_points['X'] += [x1,x2]\n",
    "                        left_points['Y'] += [y1,y2]\n",
    "                elif x1 > mid_x and x2 > mid_x: # right lines\n",
    "                    if self.max_line_slope > slope > self.min_line_slope:\n",
    "                        right_points['X'] += [x1,x2]\n",
    "                        right_points['Y'] += [y1,y2]\n",
    "        return left_points, right_points\n",
    "    \n",
    "    def fit_lines_to_points(self, left_points, right_points):\n",
    "        \"\"\"\n",
    "        fit a line (slope, y-intercept) to each of the point sets and add to buffer\n",
    "        return the average slope and y-intercept values over the last N frames\n",
    "        \"\"\"\n",
    "        if len(left_points['X']) > 1:\n",
    "            left_line = np.polyfit(left_points['X'], left_points['Y'], 1)\n",
    "            self.left_buffer = self.add_line_to_buffer(left_line, self.left_buffer)\n",
    "        if len(right_points['X']) > 1:\n",
    "            right_line = np.polyfit(right_points['X'], right_points['Y'], 1)\n",
    "            self.right_buffer = self.add_line_to_buffer(right_line, self.right_buffer)\n",
    "        \n",
    "        return (np.mean(self.left_buffer, axis=0),\n",
    "                np.mean(self.right_buffer, axis=0),)\n",
    "\n",
    "    def get_lane_lines(self, img):\n",
    "        left_x = 0\n",
    "        right_x = img.shape[1]\n",
    "        line_segments = cv2.HoughLinesP(img, self.hough_rho, self.hough_theta, self.hough_thresh,\n",
    "                                        minLineLength=self.hough_min_line_len,\n",
    "                                        maxLineGap=self.hough_max_line_gap)\n",
    "        left_points, right_points = self.partition_line_segments(line_segments, int(right_x / 2))\n",
    "        left_line, right_line = self.fit_lines_to_points(left_points, right_points)\n",
    "        intersection_x = self.get_line_intersection(left_line, right_line)\n",
    "\n",
    "        return (self.get_line_segment(left_x, intersection_x, left_line),\n",
    "                self.get_line_segment(right_x, intersection_x, right_line),)\n",
    "    \n",
    "    def get_filtered_masked_image(self, img):\n",
    "        filtered_img = self.filter_colors_hsv(img)\n",
    "        filtered_img = cv2.GaussianBlur(filtered_img[:,:,2], (self.kernel_size, self.kernel_size), 0)\n",
    "        filtered_img = cv2.Canny(filtered_img, self.canny_lo_thresh, self.canny_hi_thresh)\n",
    "        return self.get_masked_image(filtered_img)\n",
    "    \n",
    "    def process_image(self, img):\n",
    "        filtered_img = self.get_filtered_masked_image(img)\n",
    "        lane_lines = self.get_lane_lines(filtered_img)\n",
    "        line_img = np.zeros_like(img)\n",
    "        for line in lane_lines:\n",
    "            cv2.line(line_img, line[0], line[1], self.line_color, 5)\n",
    "        return cv2.addWeighted(img, 1., line_img, 1., 0.)"
   ]
  },
  {
   "cell_type": "markdown",
   "metadata": {},
   "source": [
    "## Test Images\n",
    "\n",
    "Build your pipeline to work on the images in the directory \"test_images\"  \n",
    "**You should make sure your pipeline works well on these images before you try the videos.**"
   ]
  },
  {
   "cell_type": "code",
   "execution_count": null,
   "metadata": {
    "collapsed": false
   },
   "outputs": [],
   "source": [
    "import os\n",
    "os.listdir(\"test_images/\")"
   ]
  },
  {
   "cell_type": "markdown",
   "metadata": {},
   "source": [
    "## Build a Lane Finding Pipeline\n",
    "\n"
   ]
  },
  {
   "cell_type": "markdown",
   "metadata": {},
   "source": [
    "Build the pipeline and run your solution on all test_images. Make copies into the test_images directory, and you can use the images in your writeup report.\n",
    "\n",
    "Try tuning the various parameters, especially the low and high Canny thresholds as well as the Hough lines parameters."
   ]
  },
  {
   "cell_type": "markdown",
   "metadata": {},
   "source": [
    "## Test on Videos\n",
    "\n",
    "You know what's cooler than drawing lanes over images? Drawing lanes over video!\n",
    "\n",
    "We can test our solution on two provided videos:\n",
    "\n",
    "`solidWhiteRight.mp4`\n",
    "\n",
    "`solidYellowLeft.mp4`\n",
    "\n",
    "**Note: if you get an `import error` when you run the next cell, try changing your kernel (select the Kernel menu above --> Change Kernel).  Still have problems?  Try relaunching Jupyter Notebook from the terminal prompt. Also, check out [this forum post](https://carnd-forums.udacity.com/questions/22677062/answers/22677109) for more troubleshooting tips.**\n",
    "\n",
    "**If you get an error that looks like this:**\n",
    "```\n",
    "NeedDownloadError: Need ffmpeg exe. \n",
    "You can download it by calling: \n",
    "imageio.plugins.ffmpeg.download()\n",
    "```\n",
    "**Follow the instructions in the error message and check out [this forum post](https://carnd-forums.udacity.com/display/CAR/questions/26218840/import-videofileclip-error) for more troubleshooting tips across operating systems.**"
   ]
  },
  {
   "cell_type": "code",
   "execution_count": null,
   "metadata": {
    "collapsed": false
   },
   "outputs": [],
   "source": [
    "# Import everything needed to edit/save/watch video clips\n",
    "# import imageio\n",
    "# imageio.plugins.ffmpeg.download()\n",
    "from moviepy.editor import VideoFileClip\n",
    "from IPython.display import HTML"
   ]
  },
  {
   "cell_type": "code",
   "execution_count": null,
   "metadata": {
    "collapsed": false
   },
   "outputs": [],
   "source": [
    "import os\n",
    "imlist = os.listdir(\"test_images\")\n",
    "im = mpimg.imread(\"test_images/{}\".format(imlist[0]))\n",
    "\n",
    "ld = LaneDetection()\n",
    "%time plt.imshow(ld.process_image(im))"
   ]
  },
  {
   "cell_type": "code",
   "execution_count": null,
   "metadata": {
    "collapsed": false
   },
   "outputs": [],
   "source": [
    "ld = LaneDetection()\n",
    "\n",
    "white_output = 'white.mp4'\n",
    "clip1 = VideoFileClip(\"solidWhiteRight.mp4\")\n",
    "white_clip = clip1.fl_image(ld.process_image) #NOTE: this function expects color images!!\n",
    "%time white_clip.write_videofile(white_output, audio=False)"
   ]
  },
  {
   "cell_type": "code",
   "execution_count": null,
   "metadata": {
    "collapsed": false
   },
   "outputs": [],
   "source": [
    "HTML(\"\"\"\n",
    "<video width=\"960\" height=\"540\" controls>\n",
    "  <source src=\"{0}\">\n",
    "</video>\n",
    "\"\"\".format(white_output))"
   ]
  },
  {
   "cell_type": "markdown",
   "metadata": {},
   "source": [
    "## Improve the draw_lines() function\n",
    "\n",
    "**At this point, if you were successful with making the pipeline and tuning parameters, you probably have the Hough line segments drawn onto the road, but what about identifying the full extent of the lane and marking it clearly as in the example video (P1_example.mp4)?  Think about defining a line to run the full length of the visible lane based on the line segments you identified with the Hough Transform. As mentioned previously, try to average and/or extrapolate the line segments you've detected to map out the full extent of the lane lines. You can see an example of the result you're going for in the video \"P1_example.mp4\".**\n",
    "\n",
    "**Go back and modify your draw_lines function accordingly and try re-running your pipeline. The new output should draw a single, solid line over the left lane line and a single, solid line over the right lane line. The lines should start from the bottom of the image and extend out to the top of the region of interest.**"
   ]
  },
  {
   "cell_type": "markdown",
   "metadata": {},
   "source": [
    "Now for the one with the solid yellow lane on the left. This one's more tricky!"
   ]
  },
  {
   "cell_type": "code",
   "execution_count": null,
   "metadata": {
    "collapsed": false
   },
   "outputs": [],
   "source": [
    "yellow_output = 'yellow.mp4'\n",
    "clip2 = VideoFileClip('solidYellowLeft.mp4')\n",
    "yellow_clip = clip2.fl_image(ld.process_image)\n",
    "%time yellow_clip.write_videofile(yellow_output, audio=False)"
   ]
  },
  {
   "cell_type": "code",
   "execution_count": null,
   "metadata": {
    "collapsed": false
   },
   "outputs": [],
   "source": [
    "HTML(\"\"\"\n",
    "<video width=\"960\" height=\"540\" controls>\n",
    "  <source src=\"{0}\">\n",
    "</video>\n",
    "\"\"\".format(yellow_output))"
   ]
  },
  {
   "cell_type": "markdown",
   "metadata": {},
   "source": [
    "## Writeup and Submission\n",
    "\n",
    "If you're satisfied with your video outputs, it's time to make the report writeup in a pdf or markdown file. Once you have this Ipython notebook ready along with the writeup, it's time to submit for review! Here is a [link](https://github.com/udacity/CarND-LaneLines-P1/blob/master/writeup_template.md) to the writeup template file.\n"
   ]
  },
  {
   "cell_type": "markdown",
   "metadata": {
    "collapsed": true
   },
   "source": [
    "## Optional Challenge\n",
    "\n",
    "Try your lane finding pipeline on the video below.  Does it still work?  Can you figure out a way to make it more robust?  If you're up for the challenge, modify your pipeline so it works with this video and submit it along with the rest of your project!"
   ]
  },
  {
   "cell_type": "code",
   "execution_count": null,
   "metadata": {
    "collapsed": false
   },
   "outputs": [],
   "source": [
    "challenge_output = 'extra-buffered.mp4'\n",
    "clip2 = VideoFileClip('challenge.mp4')\n",
    "ld = LaneDetection()\n",
    "\n",
    "challenge_clip = clip2.fl_image(ld.process_image)\n",
    "%time challenge_clip.write_videofile(challenge_output, audio=False)"
   ]
  },
  {
   "cell_type": "code",
   "execution_count": null,
   "metadata": {
    "collapsed": false
   },
   "outputs": [],
   "source": [
    "HTML(\"\"\"\n",
    "<video width=\"960\" height=\"540\" controls>\n",
    "  <source src=\"{0}\">\n",
    "</video>\n",
    "\"\"\".format(challenge_output))"
   ]
  },
  {
   "cell_type": "code",
   "execution_count": null,
   "metadata": {
    "collapsed": true
   },
   "outputs": [],
   "source": []
  }
 ],
 "metadata": {
  "anaconda-cloud": {},
  "kernelspec": {
   "display_name": "Python 3",
   "language": "python",
   "name": "python3"
  },
  "language_info": {
   "codemirror_mode": {
    "name": "ipython",
    "version": 3
   },
   "file_extension": ".py",
   "mimetype": "text/x-python",
   "name": "python",
   "nbconvert_exporter": "python",
   "pygments_lexer": "ipython3",
   "version": "3.5.2"
  }
 },
 "nbformat": 4,
 "nbformat_minor": 0
}
